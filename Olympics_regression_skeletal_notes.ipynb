{
 "cells": [
  {
   "cell_type": "markdown",
   "id": "f489521a-d4ba-4395-ad58-cf1cf0273d2c",
   "metadata": {},
   "source": [
    "# Olympics (Part 2) Regression Analysis\n",
    "## Can we predict future medal tally?\n",
    "\n"
   ]
  },
  {
   "cell_type": "markdown",
   "id": "ab57f611-f197-4276-977c-c5dadaaf675a",
   "metadata": {},
   "source": [
    "Linear regression can describe the linear relationship between one or more independent variables (x-variables) and a dependent variable (y-variable).\n",
    "Two types of linear regression\n",
    "-   Simple = one independent variable (x)\n",
    "- Multiple > 1 independent variable (x)\n",
    "\n",
    "Linear regression can be thought as an extension to correlation where we typically assume cause and effect. Unlike correlation, linear regression tells us how much the dependent variable changes with each increase or decrease in the independent variable.\n",
    "\n",
    "We are going to investigate using both uni and multiplie regression to explore if we can predict the medal count of countries at the olympic games\n",
    "\n",
    "### Using this notebook\n",
    "\n",
    "This notebook is similar in structure to the notebook on explortatory data analysis on this dataset. In the directory there are two notebooks; the notebook that contains the string skeletal notes has secitons missing for you to fill in as you work your way through the notebook. The other notebook contains the solutions. There are also supporting videos that give more of a narative as to how you get to the solution. \n"
   ]
  },
  {
   "cell_type": "code",
   "execution_count": null,
   "id": "3b7c98e3-cf4c-4b4a-9fe0-1e849f926c73",
   "metadata": {},
   "outputs": [],
   "source": [
    "import pandas as pd\n",
    "import numpy as np\n",
    "import matplotlib.pyplot as plt\n",
    "import seaborn as sns\n",
    "from olympics_answers import RegressionAnswers as ans\n",
    "sns.set()"
   ]
  },
  {
   "cell_type": "code",
   "execution_count": null,
   "id": "6549d133-99c3-46a1-85c5-7f6d62fdd7ad",
   "metadata": {},
   "outputs": [],
   "source": [
    "gdp = .................... #  read the csv in 'world_gdp.csv'. Google skiprows key word argument. set it to 3 Investigate what the skirows is doing and why\n",
    "......................... # view the data using .head()"
   ]
  },
  {
   "cell_type": "code",
   "execution_count": null,
   "id": "921015cc-9648-4b0b-afd3-1cb07a405654",
   "metadata": {},
   "outputs": [],
   "source": [
    "...........columns # print out the columns in the data"
   ]
  },
  {
   "cell_type": "code",
   "execution_count": null,
   "id": "1f56b678-e8f6-4d0b-aac8-0e024d8cba3c",
   "metadata": {},
   "outputs": [],
   "source": [
    "columns = ['Country Name'] + [.............    for i in range(1988, 2020, 4)] # Create a list that contains Country Name as first element and years 1988 up to and including 2016 with 4 year period\n",
    "gdp = gdp[................] # select the columns from the gdp dataframe as defined in the step above\n",
    "gdp.rename(columns={................},inplace=True) # use the rename function to change the name of Country Name to Country\n",
    "..........................# use the .tail function to have a look at the last 5 records of GDP"
   ]
  },
  {
   "cell_type": "markdown",
   "id": "1cbe875d-c3f5-4c34-9c9b-8d9d4d0a3c4d",
   "metadata": {},
   "source": [
    "Pd. melt allows you to 'unpivot' data from a 'wide format' into a 'long format', perfect for my task taking 'wide format' economic data with each column representing a year, and turning it into 'long format' data with each row representing a data point"
   ]
  },
  {
   "cell_type": "code",
   "execution_count": null,
   "id": "581ba658-42b9-40ea-89d1-2b9ccf1c2e96",
   "metadata": {},
   "outputs": [],
   "source": [
    "gdp = pd.melt(............, # dataframe to melt\n",
    "            id_vars= ............, # column to use as the identifier variable. In this case we want this to be the Country\n",
    "            value_vars=list(gdp.columns[1:]), # list of the column headers that need to be unpivoted. This will be the 0th to the last element of a list of columns in gdp \n",
    "            var_name= ..........., # A string name of the new column. We have un pivoted the years so a good name for this would be the \"Year\" \n",
    "            value_name= ............) # the final column will contain the values for the table. This needs a title gdp.sort_values(['........','............'],ascending = [.......,........],inplace=True) # sort values first by country then by year ascending\n",
    "............ # view first 5 records of gdp\n"
   ]
  },
  {
   "cell_type": "code",
   "execution_count": null,
   "id": "d7877a2b-6682-44f2-a7e5-07e181275ef9",
   "metadata": {},
   "outputs": [],
   "source": [
    "gdp...... ### use the .info method to get infomaiton on the gdp dataframe"
   ]
  },
  {
   "cell_type": "code",
   "execution_count": null,
   "id": "5c0ded35-01f0-4e14-969d-74c05c23662f",
   "metadata": {},
   "outputs": [],
   "source": [
    "gdp['Year'] = ...........astype(.......) # convert the type of the column year of gdp dataframe to an integer from a string"
   ]
  },
  {
   "cell_type": "code",
   "execution_count": null,
   "id": "6d741c93-4798-46e9-9f7f-0697413b9ae1",
   "metadata": {},
   "outputs": [],
   "source": [
    "medals_tally = ......read_.....(.....) # load in the medals_tally.csv data"
   ]
  },
  {
   "cell_type": "code",
   "execution_count": null,
   "id": "9a973f96-2f65-49fd-a89b-4115485ab902",
   "metadata": {},
   "outputs": [],
   "source": [
    "# Below select only the medalsy_tally records where the year is > 1984 . Then group by the Year and Country aggregating by the sum. Reset the index\n",
    "# The output needs to be a table containin year, country and medal count columns only \n",
    "medals_by_country = medals_tally[medals_tally['......'] > .......].groupby(['.....','.....'])\\\n",
    "['........'].....().reset_.........() \n",
    "medals_by_country.head() # view the top 5 records\n"
   ]
  },
  {
   "cell_type": "markdown",
   "id": "3ff6d1b1-3195-4bfa-900b-f5f572da8ddc",
   "metadata": {},
   "source": [
    "<div class=\"alert alert-block alert-warning\">\n",
    "<b>Question</b>\n",
    "q1 What was the medal count of Argentina during the year 1988 at the summer games?<br>\n",
    "</div>"
   ]
  },
  {
   "cell_type": "code",
   "execution_count": null,
   "id": "c2d4ef1d-2808-46db-86a4-d9eea4c99e1f",
   "metadata": {},
   "outputs": [],
   "source": [
    "#q1 What was the medal count of Argentina during the year 1988 at the summer games?\n",
    "medals_by_country.query('Country == \"..............\"')\n",
    "# ans.q1_check_answer()\n",
    "# ans.q1_get_answer()"
   ]
  },
  {
   "cell_type": "code",
   "execution_count": null,
   "id": "3806a2e4-e8d3-4fe4-9c0a-901180740d5a",
   "metadata": {},
   "outputs": [],
   "source": [
    "medals_by_country.head()"
   ]
  },
  {
   "cell_type": "code",
   "execution_count": null,
   "id": "19bd1c41-2ce4-4421-af9d-447e971640ad",
   "metadata": {},
   "outputs": [],
   "source": [
    "gdp.head()"
   ]
  },
  {
   "cell_type": "code",
   "execution_count": null,
   "id": "0414f226-a0ff-4d58-8bd5-de3641b0053a",
   "metadata": {},
   "outputs": [],
   "source": [
    "# merge the medals_by_country with gdp on year and country. Validate using one to one and set the indicator to True\n",
    "medals_tally_gdp = medals_by_country.merge(gdp,\n",
    "                                   left_on = ['......', '.........'],  # left joining columns\n",
    "                                   right_on = ['.........', '.......'], # right joining columns\n",
    "                                   how = 'left', # use a left join\n",
    "                                   indicator = True, # inserts a column to show if the value came from both or just left table\n",
    "                                   validate = \"............\") #  what type of relationship is this?\n",
    "                                         \n",
    "medals_tally_gdp.head() # view the results\n"
   ]
  },
  {
   "cell_type": "markdown",
   "id": "ec2e81b7-2267-4e01-ad56-a99217d00a87",
   "metadata": {},
   "source": [
    "<div class=\"alert alert-block alert-warning\">\n",
    "<b>Question</b>\n",
    "q2 What is the GDP of Austria in 1988 to 2SF?<br>\n",
    "</div>"
   ]
  },
  {
   "cell_type": "code",
   "execution_count": null,
   "id": "186b4bd7-044e-435e-90fb-403f82432c7e",
   "metadata": {},
   "outputs": [],
   "source": [
    "#q2 What is the GDP of Austria in 1988 to 2SF?\n",
    "medals_tally_gdp.query(\"..........\")\n",
    "# ans.q2_check_answer()\n",
    "# ans.q2_get_answer()"
   ]
  },
  {
   "cell_type": "code",
   "execution_count": null,
   "id": "a4bbe387-30e7-4713-b813-5fcf4bc5895e",
   "metadata": {},
   "outputs": [],
   "source": [
    "# How many GDP values are missing as a percentage of all the values\n",
    "print(100 * medals_tally_gdp.GDP...........sum() / medals_tally_gdp.shape[0], '% of data missing')\n"
   ]
  },
  {
   "cell_type": "markdown",
   "id": "4af0db97-0959-4d2d-8f5b-c594c6af572e",
   "metadata": {},
   "source": [
    "<div class=\"alert alert-block alert-warning\">\n",
    "<b>Question</b>\n",
    "q3 What percentage of the data (nearest integer) is missing after our cleaning steps?<br>\n",
    "</div>"
   ]
  },
  {
   "cell_type": "code",
   "execution_count": null,
   "id": "594210c6-79d7-41bf-a9f0-a99aeec3666e",
   "metadata": {},
   "outputs": [],
   "source": [
    "# What percentage of the data (nearest integer) is missing after our cleaning steps?\n",
    "# ans.q3_check_answer()\n",
    "# ans.q3_get_answer()"
   ]
  },
  {
   "cell_type": "code",
   "execution_count": null,
   "id": "e62a78ff-c3f3-4279-8fe0-7fb6e3e860f3",
   "metadata": {},
   "outputs": [],
   "source": [
    "medals_tally_gdp................... #  drop the nul values in medals tally gdp . set inplace to true"
   ]
  },
  {
   "cell_type": "code",
   "execution_count": null,
   "id": "9225ffaf-b89a-4cc8-ae2e-355cc501a83d",
   "metadata": {},
   "outputs": [],
   "source": [
    "data = ............... # read in the cleaned data from the previous analysis. cleaned_data.csv\n"
   ]
  },
  {
   "cell_type": "code",
   "execution_count": null,
   "id": "6807d62f-455b-4ea1-a6c8-2b9ec87973e0",
   "metadata": {},
   "outputs": [],
   "source": [
    "# create a new df called team size. This needs to take the data filter by season to summer and year to be greater than 1984, \n",
    "# drop duplicates values group by the year and country, count the number of unique ids and reset the index !\n",
    "team_size =data[(data['Season'] == .........) & (.............)].drop_...........().......(['Year', '.....']).ID........reset_index(name='Team_Size')"
   ]
  },
  {
   "cell_type": "code",
   "execution_count": null,
   "id": "2f5c8acc-5cbf-4f78-aa83-a7dbc13904b2",
   "metadata": {},
   "outputs": [],
   "source": [
    "medals_tally_gdp.drop(columns = ['..........'], inplace = True) # drop the _merge column as we do not need this anymore. remeber to use the keyword argument inplace"
   ]
  },
  {
   "cell_type": "code",
   "execution_count": null,
   "id": "8dfc44c0-6341-4f0d-b5ba-82fb3a5ad243",
   "metadata": {},
   "outputs": [],
   "source": [
    "# create a datset called train. THis will be created from a merge between medals_tally gdp and team size. Expect to have an output with the columns Year Country Medal COunt GDP and Team Size \n",
    "train = medals_tally_gdp.merge(..............., on=['.........','......'], how='left', validate = \"...........\", indicator = False) \n",
    "train.head()"
   ]
  },
  {
   "cell_type": "markdown",
   "id": "f862662c-0aa0-4f3d-abfc-38944920f2a0",
   "metadata": {},
   "source": [
    "<div class=\"alert alert-block alert-warning\">\n",
    "<b>Question</b>\n",
    "q4 What is the team size of Brazil during 1988?<br>\n",
    "</div>"
   ]
  },
  {
   "cell_type": "code",
   "execution_count": null,
   "id": "5fb0a20d-b3cf-4d1d-98b3-6f0caa8ebd4e",
   "metadata": {},
   "outputs": [],
   "source": [
    "# q4 What is the team size of Brazil during 1988??\n",
    "# ans.q4_check_answer()\n",
    "# ans.q4_get_answer()"
   ]
  },
  {
   "cell_type": "code",
   "execution_count": null,
   "id": "f450ad1d-2814-4e6b-aa49-08c9376b69aa",
   "metadata": {},
   "outputs": [],
   "source": [
    "# read in the csv file 'world_pop.csv'. Apply the use cols parameter to only bring in the columns that we want https://pandas.pydata.org/docs/reference/api/pandas.read_csv.html\n",
    "# The columns that we want are ['Country','1988','1992','1996','2000','2004','2008','2012','2016']\n",
    "pop = pd.read_csv(..........,\n",
    "                  usecols=['Country','1988','1992','1996','2000','2004','2008','2012','2016']) \n",
    "pop.head() # view the new frame pop"
   ]
  },
  {
   "cell_type": "code",
   "execution_count": null,
   "id": "fa08e19b-9c7e-4f90-b0e1-36f2e2ece926",
   "metadata": {},
   "outputs": [],
   "source": [
    "# Use the melt method in pandas to reshape the data https://www.w3resource.com/pandas/dataframe/dataframe-melt.php\n",
    "# Currently the data has columns country and the subsequent years. We want to reshape the data so it has 3 columns country year and population\n",
    "# In this case the id will be the country and the values that we want in the next column is the list of the years from the column headers. The values will take the values of the previous data frame with the value name as population\n",
    "pop = pd.melt(pop,\n",
    "              id_vars='.......', # set the id var as 'Country'\n",
    "            value_vars=.........., # set the value vars to be a list of the pop.columns from the first column to the last column. e.g not including country\n",
    "            var_name='.........', # name the new column year\n",
    "            value_name='.............') # name the value column as population. \n",
    "\n",
    "pop.head()"
   ]
  },
  {
   "cell_type": "code",
   "execution_count": null,
   "id": "6e92cd54-5476-4ca3-862b-107e5e7047ff",
   "metadata": {},
   "outputs": [],
   "source": [
    "pop.info()\n",
    "pop['Year'] = pop['..........'].astype(...........) #  change the year type to an integer using the astype method. "
   ]
  },
  {
   "cell_type": "code",
   "execution_count": null,
   "id": "699ee26e-d47b-4bc2-a5f0-d1071bbd44f5",
   "metadata": {},
   "outputs": [],
   "source": [
    ".......... # Use .info on the pop dataframe "
   ]
  },
  {
   "cell_type": "code",
   "execution_count": null,
   "id": "dccfaf65-62dc-47be-a2c7-3bc8d4af8da6",
   "metadata": {},
   "outputs": [],
   "source": [
    "# merge the train dataframe with the pop data frame on both year and country. call this dataframe train. \n",
    "\n",
    "train= train.merge(pop,on=['.......','.........'],\n",
    "                   how='left',\n",
    "                   validate =  \"..........\") \n",
    "\n",
    "train.head()"
   ]
  },
  {
   "cell_type": "code",
   "execution_count": null,
   "id": "82ad0247-55ed-4976-8f5b-71b445f3e846",
   "metadata": {},
   "outputs": [],
   "source": [
    "# use sns.pairplot where the variables that we want to plot are ['Medal_Count','GDP','Team_Size','Population'] from the data train\n",
    "# https://seaborn.pydata.org/generated/seaborn.pairplot.html\n",
    "sns.pairplot(data= ......,\n",
    "             corner=True, \n",
    "             kind='reg',\n",
    "             plot_kws={'line_kws':{'color':'red'}, \n",
    "                       'scatter_kws': {'alpha': 0.2}}); # https://stackoverflow.com/a/47200170/18655576\n"
   ]
  },
  {
   "cell_type": "markdown",
   "id": "6399f68a-117a-4c19-a24e-faef67dce9d0",
   "metadata": {},
   "source": [
    "The pair plot shows every attribute of our dataset plotted against every attribute of our datset. On the diagnoal we see the histogram showing the distribution of the data. Where the data is highly skewed or where the relationship does not look to fit a linear pattern then we may wish to alter our features for the log of the value of the attribute is used instead of the raw value of the attribute itself. \n",
    "https://medium.com/@kyawsawhtoon/log-transformation-purpose-and-interpretation-9444b4b049c9"
   ]
  },
  {
   "cell_type": "code",
   "execution_count": null,
   "id": "3b5673ab-f761-4873-a607-905e787c4fab",
   "metadata": {},
   "outputs": [],
   "source": [
    "train['Log_GDP'] = train['GDP'].apply(np.log) # use the pnadas .apply method to create a new column that will be the log of the original value. Call hte new column \"Log_GDP\"\n",
    "train['Log_Population'] = ............ # use the pnadas .apply method to create a new column that will be the log of the original value. Call hte new column \"Log_Population\"\n",
    "train['Log_team_size'] = ................ # apply .log to team size\n",
    "#  lets introduce a new column called \"Log_GDP_PC\". This is to log of the gdp divided by the log of the poulation. \n",
    "# Remember mathmatically dividing a log is the same as sibtracting toe log of the numerator from the log of the denominator \n",
    "#because log(gdp/pop) = log(gdp) - log(pop) \n",
    "train['Log_GDP_PC'] = train['Log_GDP'] - train['Log_Population'] "
   ]
  },
  {
   "cell_type": "code",
   "execution_count": null,
   "id": "825ebd27-af85-4f4e-a008-32e19c0cba83",
   "metadata": {},
   "outputs": [],
   "source": [
    "sns.pairplot(data=train,\n",
    "             corner=True, \n",
    "             kind='reg',\n",
    "             plot_kws={'line_kws':{'color':'red'}, \n",
    "                       'scatter_kws': {'alpha': 0.2}}); # https://stackoverflow.com/a/47200170/18655576"
   ]
  },
  {
   "cell_type": "markdown",
   "id": "71da0ff5-09c8-41ba-9d8e-ed93b8d39359",
   "metadata": {},
   "source": [
    "It can be observed now that where we took the log of a column the histogram takes a more *normal* shape "
   ]
  },
  {
   "cell_type": "code",
   "execution_count": null,
   "id": "f2964ce9-8a10-4984-bef3-97642c666e20",
   "metadata": {},
   "outputs": [],
   "source": [
    "#  create a new variable called corr. This will contain the correlation coefficients betweem all of the variables \n",
    "# The default correlation paramter is the pearson, however others are available \n",
    "# https://pandas.pydata.org/docs/reference/api/pandas.DataFrame.corr.html\n",
    "corr = ........... #  create corr  of train datset\n",
    "sns.heatmap(corr,\n",
    "            annot=True,\n",
    "            cmap='Blues',\n",
    "            mask = np.triu(corr)); # This masks the top right of the heatmap that is a repeat of the data bottom left# use sns.heatmap to plot corr https://seaborn.pydata.org/generated/seaborn.heatmap.html"
   ]
  },
  {
   "cell_type": "markdown",
   "id": "932bc5f4-a395-40a3-896a-ebadb839538a",
   "metadata": {},
   "source": [
    "<div class=\"alert alert-block alert-warning\">\n",
    "<b>Question</b>\n",
    "q5 What is the correlation between team count and Medal Count?<br>\n",
    "</div>"
   ]
  },
  {
   "cell_type": "code",
   "execution_count": null,
   "id": "a0beac0e-fe8b-4d68-a48d-e7cd29987a5c",
   "metadata": {},
   "outputs": [],
   "source": [
    "# q5 q5 What is the correlation between team count and Medal Count??\n",
    "# ans.q5_check_answer()\n",
    "# ans.q5_get_answer()"
   ]
  },
  {
   "cell_type": "markdown",
   "id": "4356d9c4-a47e-427a-a8b9-695f355227d3",
   "metadata": {},
   "source": [
    "### Selecting our varibales for regression \n",
    "\n",
    "- Where possible use domain specific knowledge to use variables that you believe should effect the target variable\n",
    "- Think about including interaction terms. For example if it was found that smoking increased risk of cancer, and also that lack of exercise increased risk of cancer, however a combination of both subtationaly increased your risk of cancer you may wish to included an input variable that is the product of both of these. This is more appropiate in predictive regression as opposed to explanatory regression \n",
    "- Avoid variables that have a small amount of variation\n",
    "- Avoid collinearity when selecting your predicitors. When two or more variables in a model are correlated in some way then there is a degree of collinearity. This is not a binary issue and most models will have it to some degree. Wehn variables are highly correlated it becomes hard to correctly estimate the contribution of each variable to the target variable. "
   ]
  },
  {
   "cell_type": "markdown",
   "id": "60945eed-bdfe-4af0-bbf5-3ea6764763af",
   "metadata": {},
   "source": [
    "We are going to start of by using the raw untransformed columns because the correlation matrix has indidcated they correlated well with the target variable. Remeber the target variable here is the medal count. The features we are using are team size population and and GDP. It should be noted that team size and GDP are quite highly correlated however shall work with this for now "
   ]
  },
  {
   "cell_type": "code",
   "execution_count": null,
   "id": "e5181424-2da4-488e-bf04-17967c71c0c5",
   "metadata": {},
   "outputs": [],
   "source": [
    " #  import models to use for regression\n",
    "from sklearn.metrics import mean_squared_error as mse\n",
    "import statsmodels.formula.api as smf"
   ]
  },
  {
   "cell_type": "code",
   "execution_count": null,
   "id": "40f7b108-ddba-4723-bd2d-d221500f1888",
   "metadata": {},
   "outputs": [],
   "source": [
    "#train models on data upto 2012\n",
    "#predict on 2016 -  create prediction dataset\n",
    "X_tst = train.loc[train.Year == 2016].dropna()............. #  select only the data that is year 2016, chose only ['Team_Size','GDP','Population'] and  drop na\n",
    "y_tst =...................['Medal_Count'] #  Select only for the year 2016 with the only column as 'Medal_Count'. Drop na"
   ]
  },
  {
   "cell_type": "code",
   "execution_count": null,
   "id": "93d47d34-37e3-4ef0-ba45-52f752347a95",
   "metadata": {},
   "outputs": [],
   "source": [
    "OLS = smf.ols('Medal_Count ~ Team_Size + GDP + Population', data=.........loc[train.Year..........2016]).fit() #  fit the model on the data when the year is not 2016. Use the medal count as the target and team size gdp and population as features\n",
    "OLS.summary() #  see a summary of results"
   ]
  },
  {
   "cell_type": "code",
   "execution_count": null,
   "id": "7f6f6b42-5f83-4e95-a40d-31b6d11af365",
   "metadata": {},
   "outputs": [],
   "source": [
    "y_ols = OLS.predict(X_tst) # test the accuracy of our model on the test data. The test data contains only the year 2016\n",
    "ols_score = OLS.rsquared #R^2 # find the r squared of the test data. We use the rsquared method for this\n",
    "ols_err = np.sqrt(mse(y_tst, y_ols)) #rms error find the root mean square error. Take the square root of the function mse with arguments of ground truth and prediction \n",
    "print('Statsmodels OLS R^2: {}, Statsmodels OLS RMSE: {}'.format(ols_score,ols_err)) # print the results out "
   ]
  },
  {
   "cell_type": "markdown",
   "id": "21736491-c05c-4d0b-91d5-a3f847b0c634",
   "metadata": {},
   "source": [
    "Lets try to see if using the log transform of the raw features improved our results"
   ]
  },
  {
   "cell_type": "code",
   "execution_count": null,
   "id": "195a93ab-806a-4f16-b835-5d8c8aba2242",
   "metadata": {},
   "outputs": [],
   "source": [
    "\n",
    "X_tst_log = ................... # #  select only the data that is year 2016, chose only ['Log_team_size','Log_GDP','Log_Population'] and  drop na\n",
    "y_tst_log = ................ # #  Select only for the year 2016 with the only column as 'Medal_Count'. Drop na"
   ]
  },
  {
   "cell_type": "code",
   "execution_count": null,
   "id": "6d22395d-6380-4dff-99d2-32a702f11eb1",
   "metadata": {},
   "outputs": [],
   "source": [
    "OLS_log = smf.ols('Medal_Count ~ ..................', data=train.loc[train.Year!=2016]).fit() # fit the model on the data when the year is not 2016. Use the medal count as the target andLog_team_size + Log_GDP + Log_Population as features \n",
    "..................... # get a summary of the results"
   ]
  },
  {
   "cell_type": "code",
   "execution_count": null,
   "id": "a03fc558-e549-4fd2-8904-e58e7dad3d20",
   "metadata": {},
   "outputs": [],
   "source": [
    "y_ols_log =...............(X_tst_log)# test the accuracy of our model on the test data where the logs were used. The test data contains only the year 2016\n",
    "ols_score = OLS_log............... #R^2\n",
    "ols_err = np.sqrt(mse(y_tst, y_ols_log)) #rms error\n",
    "print('Statsmodels OLS R^2: {}, Statsmodels OLS RMSE: {}'.format(ols_score,ols_err)) # print the results"
   ]
  },
  {
   "cell_type": "markdown",
   "id": "ae93fc45-365c-4b40-bd7d-2b1dcd2d2161",
   "metadata": {},
   "source": [
    "<div class=\"alert alert-block alert-warning\">\n",
    "<b>Question</b>\n",
    "q 6 Which model was better; model 1 the used features without logs or model 2 that used features with logs. Enter answer as 1 or 2 ?<br>\n",
    "</div>"
   ]
  },
  {
   "cell_type": "markdown",
   "id": "85e8022f-c9e2-4372-9b4d-d0b9530ce6ce",
   "metadata": {},
   "source": [
    "It is clear the regression without the log transform was working better so we shall use that as we proceed with the analysis\n",
    "\n"
   ]
  },
  {
   "cell_type": "code",
   "execution_count": null,
   "id": "0d215f05-97e1-4833-a3df-039265236218",
   "metadata": {},
   "outputs": [],
   "source": [
    "# q 6 Which model was better; model 1 the used features without logs or model 2 that used features with logs. Enter answer as 1 or 2 ?\n",
    "# ans.q6_check_answer()\n",
    "# ans.q6_get_answer()"
   ]
  },
  {
   "cell_type": "markdown",
   "id": "37c0faa2-939c-4f2a-bf00-63ad22609697",
   "metadata": {},
   "source": [
    "The coefficients indidcate that team size has the biggest effect on medal count, even given the scales that GDP and population are measured in. Using this type of analysis is useful for gaining both an insight into the factors that effect medal count at the games, but it also allows us to make predictions. However if we just wanted to predict the future medal count of an olympic games we also have access to the medal count from that team at the games prior to the one we are trying to predict. It is suspected that this factor alone will be a strong predictor however when combined with the other factors we have investigated it is likely to give an even better medal count prediction Therefore lets introduce previous games medal count for each team to give improved predicitve power. "
   ]
  },
  {
   "cell_type": "code",
   "execution_count": null,
   "id": "ffa10913-7e99-4a4d-b90a-651b394eb68f",
   "metadata": {},
   "outputs": [],
   "source": [
    "\n",
    "train['previous_year'] = train.Year - 4 #  add a column to the df train called 'previous year' . THis will be the year the previous olympiad\n",
    "# merge train dataframe and medals by country on previous year , country and year and country\n",
    "train = pd.merge(train, medals_by_country, left_on = ['..........', '............'], right_on = ['........', '..........'])\n",
    "train =  train.drop(columns = ['previous_year', 'Year_y']) # drop columns we dont need. that is previous_year and year_y\n",
    "train = train.rename(columns = {'Medal_Count_y' : 'prev_medal', 'Year_x': 'Year','Medal_Count_x' : 'Medal_Count'}) # rename columns to more appropriate names\n"
   ]
  },
  {
   "cell_type": "code",
   "execution_count": null,
   "id": "6f46495b-8595-4558-b40b-ee9ea9a42658",
   "metadata": {},
   "outputs": [],
   "source": []
  },
  {
   "cell_type": "code",
   "execution_count": null,
   "id": "f878ea21-7b23-4c51-9460-5fab25971361",
   "metadata": {},
   "outputs": [],
   "source": [
    "# fit the linear regression algorithm to team size gdp population and prev_medal\n",
    "# fit OLS algorith using 'Team_Size + GDP + Population + prev_medal' as predictors and 'Medal_Count' as the target. \n",
    "# Remeber to include all data apart from the data where the training year is 2016\n",
    "OLS = smf.ols('Medal_Count ~ Team_Size + GDP + Population + prev_medal', ................................\n",
    "\n",
    "X_tst = ........................... # set an X_tst variable from variable train that includes only the year 2016. Include only the columns that are your predictors\n",
    "y_tst = ......................... # set a y_tst variable that contains only the medal count from the year 2016\n",
    "y_ols = ......................... # make predictions on the X_tst data\n",
    "ols_score = ....................... # Get r squared value\n",
    "ols_err = ................. #rms error of prediction v groundtruth \n",
    "print('Statsmodels OLS R^2: {}, Statsmodels OLS RMSE: {}'.format(ols_score,ols_err))"
   ]
  },
  {
   "cell_type": "code",
   "execution_count": null,
   "id": "ad276950-4bbf-498c-bbfd-85c9b8039186",
   "metadata": {},
   "outputs": [],
   "source": [
    "..................... # view a summary of the model"
   ]
  },
  {
   "cell_type": "markdown",
   "id": "515641e6-a7e3-4fbb-8152-f32de1715800",
   "metadata": {},
   "source": [
    "We can see an impressive R squared of 0.93. Whilst this could have been expected given the correlation between passed and previous performance the other factors did aid in increasing the predicitve power of the model. On average the prediction was wrong by only 5 medals. "
   ]
  },
  {
   "cell_type": "markdown",
   "id": "3fd143e5-f831-431f-b13b-b0b40853abc2",
   "metadata": {},
   "source": [
    "We can now look at visualising our results using a variety of plots"
   ]
  },
  {
   "cell_type": "code",
   "execution_count": null,
   "id": "e90d0b22-f7aa-44fa-8e59-f387705e5946",
   "metadata": {},
   "outputs": [],
   "source": [
    "# make a new variable called results that is equal to the train variable in the year 2916 and contains columns of \n",
    "#['Medal_Count', 'Log_GDP_PC', 'prev_medal', 'Year', 'Country']\n",
    "\n",
    "results = train[train.Year == 2016][['Medal_Count', 'Log_GDP_PC', 'prev_medal', 'Year', 'Country']]\n",
    ".................... = y_ols # set a new column in results called 'Medal_Pred' that contains the predicted medal count\n",
    "results.dropna(inplace = True) # drop all na. Set in place\n",
    "................. # reset the index of results\n",
    "\n",
    "\n",
    "fig = plt.figure(figsize = (10, 5)) # plot a scatter graph of medal_Pred V Medal_Count\n",
    "plt.scatter(results.Medal_Pred, results.Medal_Count)\n",
    "\n",
    "for i in range(len(results)): # add labels to the scatter graph\n",
    "    plt.annotate(results.Country.iloc[i], (results.Medal_Pred.iloc[i], results.Medal_Count.iloc[i]))\n",
    "plt.plot(range(90), range(90), 'r') # add a line that shows perfect prediction\n",
    "    \n",
    "plt.xlabel('Prediction')\n",
    "plt.ylabel('True Count')\n",
    "fig = plt.figure()\n",
    "fig.set_size_inches(10, 4)"
   ]
  },
  {
   "cell_type": "markdown",
   "id": "a1f5adec-1846-4b9c-bf5a-fc5dbfc3a842",
   "metadata": {},
   "source": [
    "We can also plot out results in terms of country and the prediction against the true count"
   ]
  },
  {
   "cell_type": "code",
   "execution_count": null,
   "id": "73a345ea-9882-41b2-8471-79485896a638",
   "metadata": {},
   "outputs": [],
   "source": [
    "fig = plt.figure(figsize = (15, 10))\n",
    "plt.bar(results.Country, height = results.Medal_Count, alpha = 0.4, label = 'True Count')\n",
    "plt.bar(results.Country, height = results.Medal_Pred, alpha = 0.4, label = 'Prediction')\n",
    "plt.legend()\n",
    "plt.xticks(rotation = 90)\n",
    "plt.xlabel('Country')\n"
   ]
  },
  {
   "cell_type": "markdown",
   "id": "32442365-0f24-427f-9e23-cc802cb627ab",
   "metadata": {},
   "source": [
    "<div class=\"alert alert-block alert-warning\">\n",
    "<b>Question</b>\n",
    "q 7 What was the error in medals for the France in the 2016 olympic games   ?<br>\n",
    "</div>"
   ]
  },
  {
   "cell_type": "code",
   "execution_count": null,
   "id": "76cc4dfe-781e-49f7-bbc7-7a4ba1e714e0",
   "metadata": {},
   "outputs": [],
   "source": [
    "results.query('Country == \"France\"')\n",
    "\n",
    "# q 7 What was the error in medals for the France in the 2016 olympic games   ??\n",
    "# ans.q7_check_answer()\n",
    "# ans.q7_get_answer()"
   ]
  },
  {
   "cell_type": "markdown",
   "id": "74bc2402-5d3d-415f-b65e-73a00de8c983",
   "metadata": {},
   "source": [
    "## Conclusion\n",
    "\n",
    "Looks like we can make decent predictions based on a simple linear model with Team Size, GDP, and Population.\n",
    "\n",
    "The R^2 value signifies the percetage of variation in the medals tally that is accounted for by the model.\n",
    "The RMS error implies that the models can predict the medals tally of a country within about 10-11 medals if we ignore the medal count from the previous games and around 5 medals if we include medals from the previous games. "
   ]
  }
 ],
 "metadata": {
  "kernelspec": {
   "display_name": "Python 3 (ipykernel)",
   "language": "python",
   "name": "python3"
  },
  "language_info": {
   "codemirror_mode": {
    "name": "ipython",
    "version": 3
   },
   "file_extension": ".py",
   "mimetype": "text/x-python",
   "name": "python",
   "nbconvert_exporter": "python",
   "pygments_lexer": "ipython3",
   "version": "3.9.12"
  }
 },
 "nbformat": 4,
 "nbformat_minor": 5
}
